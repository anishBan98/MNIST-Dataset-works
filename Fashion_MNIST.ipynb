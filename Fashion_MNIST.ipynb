{
  "nbformat": 4,
  "nbformat_minor": 0,
  "metadata": {
    "colab": {
      "name": "fashion_mnist.ipynb",
      "version": "0.3.2",
      "provenance": []
    },
    "kernelspec": {
      "name": "python3",
      "display_name": "Python 3"
    },
    "accelerator": "TPU"
  },
  "cells": [
    {
      "cell_type": "code",
      "metadata": {
        "id": "YnFShFA3J3Xz",
        "colab_type": "code",
        "colab": {}
      },
      "source": [
        "import numpy as np"
      ],
      "execution_count": 0,
      "outputs": []
    },
    {
      "cell_type": "code",
      "metadata": {
        "id": "Igct7_K-G9at",
        "colab_type": "code",
        "colab": {}
      },
      "source": [
        "from tensorflow.keras.datasets import fashion_mnist"
      ],
      "execution_count": 0,
      "outputs": []
    },
    {
      "cell_type": "code",
      "metadata": {
        "id": "Twa0U2RpHOPI",
        "colab_type": "code",
        "colab": {}
      },
      "source": [
        "(x_train, y_train), (x_test, y_test) = fashion_mnist.load_data()"
      ],
      "execution_count": 0,
      "outputs": []
    },
    {
      "cell_type": "code",
      "metadata": {
        "id": "W6N77CqbHaL3",
        "colab_type": "code",
        "outputId": "2535d154-a97b-4799-dcb3-358e8c637498",
        "colab": {
          "base_uri": "https://localhost:8080/",
          "height": 35
        }
      },
      "source": [
        "np.unique(y_train)"
      ],
      "execution_count": 4,
      "outputs": [
        {
          "output_type": "execute_result",
          "data": {
            "text/plain": [
              "array([0, 1, 2, 3, 4, 5, 6, 7, 8, 9], dtype=uint8)"
            ]
          },
          "metadata": {
            "tags": []
          },
          "execution_count": 4
        }
      ]
    },
    {
      "cell_type": "code",
      "metadata": {
        "id": "2KLB3fyhPDrh",
        "colab_type": "code",
        "outputId": "990f55ff-0073-4701-baa4-913a8427cbd4",
        "colab": {
          "base_uri": "https://localhost:8080/",
          "height": 35
        }
      },
      "source": [
        "x_test.shape"
      ],
      "execution_count": 5,
      "outputs": [
        {
          "output_type": "execute_result",
          "data": {
            "text/plain": [
              "(10000, 28, 28)"
            ]
          },
          "metadata": {
            "tags": []
          },
          "execution_count": 5
        }
      ]
    },
    {
      "cell_type": "code",
      "metadata": {
        "id": "-0UhgnrNSaSt",
        "colab_type": "code",
        "outputId": "66076de0-c1dc-4fbc-87cf-ca7ec98112ba",
        "colab": {
          "base_uri": "https://localhost:8080/",
          "height": 35
        }
      },
      "source": [
        "np.float32()"
      ],
      "execution_count": 6,
      "outputs": [
        {
          "output_type": "execute_result",
          "data": {
            "text/plain": [
              "0.0"
            ]
          },
          "metadata": {
            "tags": []
          },
          "execution_count": 6
        }
      ]
    },
    {
      "cell_type": "code",
      "metadata": {
        "id": "yHarwvTzHm12",
        "colab_type": "code",
        "outputId": "8eb41ce2-c98a-4785-8f5d-12d2695667eb",
        "colab": {
          "base_uri": "https://localhost:8080/",
          "height": 287
        }
      },
      "source": [
        "%pylab inline\n",
        "import matplotlib.pyplot as plt\n",
        "import matplotlib.image as mpimg\n",
        "imgplot = plt.imshow(x_train[8])\n",
        "plt.show()"
      ],
      "execution_count": 7,
      "outputs": [
        {
          "output_type": "stream",
          "text": [
            "Populating the interactive namespace from numpy and matplotlib\n"
          ],
          "name": "stdout"
        },
        {
          "output_type": "display_data",
          "data": {
            "image/png": "[encoded data removed]",
            "text/plain": [
              "<Figure size 432x288 with 1 Axes>"
            ]
          },
          "metadata": {
            "tags": []
          }
        }
      ]
    },
    {
      "cell_type": "code",
      "metadata": {
        "id": "Zot7Su51U3Z3",
        "colab_type": "code",
        "outputId": "9e4dbe78-071f-4c83-de24-1432034faf5f",
        "colab": {
          "base_uri": "https://localhost:8080/",
          "height": 35
        }
      },
      "source": [
        "x_train = x_train.reshape(60000,28,28,1)\n",
        "x_test = x_test.reshape(10000,28,28,1)\n",
        "print(x_test.shape)"
      ],
      "execution_count": 8,
      "outputs": [
        {
          "output_type": "stream",
          "text": [
            "(10000, 28, 28, 1)\n"
          ],
          "name": "stdout"
        }
      ]
    },
    {
      "cell_type": "code",
      "metadata": {
        "id": "EbwOjE6_Ia4b",
        "colab_type": "code",
        "colab": {}
      },
      "source": [
        "from tensorflow.keras.preprocessing.image import ImageDataGenerator"
      ],
      "execution_count": 0,
      "outputs": []
    },
    {
      "cell_type": "code",
      "metadata": {
        "id": "_Q9tZci3JRDN",
        "colab_type": "code",
        "colab": {}
      },
      "source": [
        "train_data = ImageDataGenerator(rescale=1./255,\n",
        "                                rotation_range=40,\n",
        "                                width_shift_range=0.2,\n",
        "                                height_shift_range=0.2,\n",
        "                                shear_range=0.2,\n",
        "                                zoom_range=0.2,\n",
        "                                horizontal_flip=True,\n",
        "                                vertical_flip=True)\n",
        "#train_data = ImageDataGenerator(rescale=1./255)\n",
        "val_data = ImageDataGenerator(rescale=1./255)\n"
      ],
      "execution_count": 0,
      "outputs": []
    },
    {
      "cell_type": "code",
      "metadata": {
        "id": "jfZXK46mMi7G",
        "colab_type": "code",
        "colab": {}
      },
      "source": [
        "from tensorflow.keras import layers\n",
        "from tensorflow.keras import Model\n",
        "from tensorflow.keras.layers import Conv2D,MaxPooling2D,Dense,Flatten,Dropout\n",
        "def create_model():\n",
        "  \n",
        "  img_input = layers.Input(shape=(28,28,1))\n",
        "\n",
        "\n",
        "  x = Conv2D(32,(3,3),activation=\"relu\",data_format='channels_last',padding = 'same')(img_input)\n",
        "  x = MaxPooling2D(2)(x)\n",
        "\n",
        "\n",
        "  x = Conv2D(64,3,activation=\"relu\",data_format='channels_last')(x)\n",
        "  x = MaxPooling2D(2)(x)\n",
        "\n",
        "  x = Conv2D(128,3,activation=\"relu\",data_format='channels_last')(x)\n",
        "  x = MaxPooling2D(2)(x)\n",
        "\n",
        "  x = Flatten()(x)\n",
        "\n",
        "  x = Dense(1024,activation=\"relu\")(x)\n",
        "\n",
        "  x = Dense(512,activation=\"relu\")(x)\n",
        "\n",
        "  x = Dense(256,activation = \"relu\")(x)\n",
        "\n",
        "  x = Dropout(0.5)(x)\n",
        "\n",
        "  output = Dense(10,activation = \"softmax\")(x)\n",
        "\n",
        "  model = Model(img_input,output)\n",
        "  \n",
        "  return(model)\n",
        "\n",
        "\n"
      ],
      "execution_count": 0,
      "outputs": []
    },
    {
      "cell_type": "code",
      "metadata": {
        "id": "OdOzTn4YM_1D",
        "colab_type": "code",
        "outputId": "14b71d85-6a05-4185-eca4-9eeba295f208",
        "colab": {
          "base_uri": "https://localhost:8080/",
          "height": 255
        }
      },
      "source": [
        "import tensorflow as tf\n",
        "from tensorflow.keras.optimizers import Adam\n",
        "#for tpu service\n",
        "import os\n",
        "\n",
        "resolver = tf.contrib.cluster_resolver.TPUClusterResolver('grpc://' + os.environ['COLAB_TPU_ADDR'])\n",
        "tf.contrib.distribute.initialize_tpu_system(resolver)\n",
        "strategy = tf.contrib.distribute.TPUStrategy(resolver)\n",
        "\n",
        "with strategy.scope():\n",
        "  model = create_model()\n",
        "  model.compile(loss=\"sparse_categorical_crossentropy\",\n",
        "                optimizer = Adam(lr=0.001, beta_1=0.9, beta_2=0.999, epsilon=None, decay=0.01, amsgrad=False),\n",
        "                metrics=['sparse_categorical_accuracy'])"
      ],
      "execution_count": 12,
      "outputs": [
        {
          "output_type": "stream",
          "text": [
            "WARNING: Logging before flag parsing goes to stderr.\n",
            "W0820 16:49:18.082167 140027720345472 lazy_loader.py:50] \n",
            "The TensorFlow contrib module will not be included in TensorFlow 2.0.\n",
            "For more information, please see:\n",
            "  * https://github.com/tensorflow/community/blob/master/rfcs/20180907-contrib-sunset.md\n",
            "  * https://github.com/tensorflow/addons\n",
            "  * https://github.com/tensorflow/io (for I/O related ops)\n",
            "If you depend on functionality not listed there, please file an issue.\n",
            "\n",
            "W0820 16:49:24.000051 140027720345472 deprecation.py:506] From /usr/local/lib/python3.6/dist-packages/tensorflow/python/ops/init_ops.py:1251: calling VarianceScaling.__init__ (from tensorflow.python.ops.init_ops) with dtype is deprecated and will be removed in a future version.\n",
            "Instructions for updating:\n",
            "Call initializer instance with the dtype argument instead of passing it to the constructor\n"
          ],
          "name": "stderr"
        }
      ]
    },
    {
      "cell_type": "code",
      "metadata": {
        "id": "Z2kQLGmqNJIt",
        "colab_type": "code",
        "outputId": "37d319b8-f72f-4e92-8c92-a75eb60ce84f",
        "colab": {
          "base_uri": "https://localhost:8080/",
          "height": 655
        }
      },
      "source": [
        "model.fit(x_train.astype(np.float32), y_train.astype(np.float32), \n",
        "          batch_size=600,\n",
        "          steps_per_epoch=100,\n",
        "          epochs=15,\n",
        "          validation_data=(x_test.astype(np.float64),y_test.astype(np.float64)),\n",
        "          validation_freq=17)"
      ],
      "execution_count": 14,
      "outputs": [
        {
          "output_type": "stream",
          "text": [
            "W0820 16:49:47.483925 140027720345472 deprecation.py:323] From /usr/local/lib/python3.6/dist-packages/tensorflow/python/keras/engine/training_distributed.py:411: Variable.load (from tensorflow.python.ops.variables) is deprecated and will be removed in a future version.\n",
            "Instructions for updating:\n",
            "Prefer Variable.assign which has equivalent behavior in 2.X.\n"
          ],
          "name": "stderr"
        },
        {
          "output_type": "stream",
          "text": [
            "Epoch 1/15\n",
            "100/100 [==============================] - 3s 28ms/step - loss: 1.2040 - sparse_categorical_accuracy: 0.7201\n",
            "Epoch 2/15\n",
            "100/100 [==============================] - 1s 14ms/step - loss: 0.4192 - sparse_categorical_accuracy: 0.8531\n",
            "Epoch 3/15\n",
            "100/100 [==============================] - 1s 14ms/step - loss: 0.3560 - sparse_categorical_accuracy: 0.8752\n",
            "Epoch 4/15\n",
            "100/100 [==============================] - 1s 15ms/step - loss: 0.3197 - sparse_categorical_accuracy: 0.8861\n",
            "Epoch 5/15\n",
            "100/100 [==============================] - 1s 14ms/step - loss: 0.2974 - sparse_categorical_accuracy: 0.8937\n",
            "Epoch 6/15\n",
            "100/100 [==============================] - 1s 14ms/step - loss: 0.2788 - sparse_categorical_accuracy: 0.9007\n",
            "Epoch 7/15\n",
            "100/100 [==============================] - 1s 15ms/step - loss: 0.2646 - sparse_categorical_accuracy: 0.9054\n",
            "Epoch 8/15\n",
            "100/100 [==============================] - 1s 14ms/step - loss: 0.2498 - sparse_categorical_accuracy: 0.9087\n",
            "Epoch 9/15\n",
            "100/100 [==============================] - 1s 14ms/step - loss: 0.2409 - sparse_categorical_accuracy: 0.9137\n",
            "Epoch 10/15\n",
            "100/100 [==============================] - 1s 15ms/step - loss: 0.2329 - sparse_categorical_accuracy: 0.9160\n",
            "Epoch 11/15\n",
            "100/100 [==============================] - 1s 14ms/step - loss: 0.2253 - sparse_categorical_accuracy: 0.9190\n",
            "Epoch 12/15\n",
            "100/100 [==============================] - 1s 14ms/step - loss: 0.2165 - sparse_categorical_accuracy: 0.9215\n",
            "Epoch 13/15\n",
            "100/100 [==============================] - 1s 14ms/step - loss: 0.2105 - sparse_categorical_accuracy: 0.9248\n",
            "Epoch 14/15\n",
            "100/100 [==============================] - 1s 14ms/step - loss: 0.2031 - sparse_categorical_accuracy: 0.9266\n",
            "Epoch 15/15\n",
            "100/100 [==============================] - 1s 15ms/step - loss: 0.1987 - sparse_categorical_accuracy: 0.9278\n"
          ],
          "name": "stdout"
        },
        {
          "output_type": "execute_result",
          "data": {
            "text/plain": [
              "<tensorflow.python.keras.callbacks.History at 0x7f5a72c55c18>"
            ]
          },
          "metadata": {
            "tags": []
          },
          "execution_count": 14
        }
      ]
    }
  ]
}